{
  "nbformat": 4,
  "nbformat_minor": 0,
  "metadata": {
    "colab": {
      "provenance": [],
      "authorship_tag": "ABX9TyMaGKwLLAidXMWGwyLdMTOY",
      "include_colab_link": true
    },
    "kernelspec": {
      "name": "python3",
      "display_name": "Python 3"
    },
    "language_info": {
      "name": "python"
    }
  },
  "cells": [
    {
      "cell_type": "markdown",
      "metadata": {
        "id": "view-in-github",
        "colab_type": "text"
      },
      "source": [
        "<a href=\"https://colab.research.google.com/github/Malavika-2001-gif/colab-notebook/blob/main/Untitled19.ipynb\" target=\"_parent\"><img src=\"https://colab.research.google.com/assets/colab-badge.svg\" alt=\"Open In Colab\"/></a>"
      ]
    },
    {
      "cell_type": "code",
      "execution_count": 3,
      "metadata": {
        "colab": {
          "base_uri": "https://localhost:8080/"
        },
        "id": "K4XbLEVdBYBU",
        "outputId": "d39ed19a-d381-4d9e-ff75-fb4716caeb7c"
      },
      "outputs": [
        {
          "output_type": "stream",
          "name": "stdout",
          "text": [
            "<class 'pandas.core.frame.DataFrame'>\n",
            "Index: 891 entries, 1 to 891\n",
            "Data columns (total 11 columns):\n",
            " #   Column    Non-Null Count  Dtype  \n",
            "---  ------    --------------  -----  \n",
            " 0   Survived  891 non-null    int64  \n",
            " 1   Pclass    891 non-null    int64  \n",
            " 2   Name      891 non-null    object \n",
            " 3   Sex       891 non-null    object \n",
            " 4   Age       714 non-null    float64\n",
            " 5   SibSp     891 non-null    int64  \n",
            " 6   Parch     891 non-null    int64  \n",
            " 7   Ticket    891 non-null    object \n",
            " 8   Fare      891 non-null    float64\n",
            " 9   Cabin     204 non-null    object \n",
            " 10  Embarked  889 non-null    object \n",
            "dtypes: float64(2), int64(4), object(5)\n",
            "memory usage: 83.5+ KB\n",
            "             Survived  Pclass  \\\n",
            "PassengerId                     \n",
            "1                   0       3   \n",
            "2                   1       1   \n",
            "3                   1       3   \n",
            "4                   1       1   \n",
            "5                   0       3   \n",
            "\n",
            "                                                          Name     Sex   Age  \\\n",
            "PassengerId                                                                    \n",
            "1                                      Braund, Mr. Owen Harris    male  22.0   \n",
            "2            Cumings, Mrs. John Bradley (Florence Briggs Th...  female  38.0   \n",
            "3                                       Heikkinen, Miss. Laina  female  26.0   \n",
            "4                 Futrelle, Mrs. Jacques Heath (Lily May Peel)  female  35.0   \n",
            "5                                     Allen, Mr. William Henry    male  35.0   \n",
            "\n",
            "             SibSp  Parch            Ticket     Fare Cabin Embarked  \n",
            "PassengerId                                                          \n",
            "1                1      0         A/5 21171   7.2500   NaN        S  \n",
            "2                1      0          PC 17599  71.2833   C85        C  \n",
            "3                0      0  STON/O2. 3101282   7.9250   NaN        S  \n",
            "4                1      0            113803  53.1000  C123        S  \n",
            "5                0      0            373450   8.0500   NaN        S  \n",
            "         Survived      Pclass         Age       SibSp       Parch        Fare\n",
            "count  891.000000  891.000000  714.000000  891.000000  891.000000  891.000000\n",
            "mean     0.383838    2.308642   29.699118    0.523008    0.381594   32.204208\n",
            "std      0.486592    0.836071   14.526497    1.102743    0.806057   49.693429\n",
            "min      0.000000    1.000000    0.420000    0.000000    0.000000    0.000000\n",
            "25%      0.000000    2.000000   20.125000    0.000000    0.000000    7.910400\n",
            "50%      0.000000    3.000000   28.000000    0.000000    0.000000   14.454200\n",
            "75%      1.000000    3.000000   38.000000    1.000000    0.000000   31.000000\n",
            "max      1.000000    3.000000   80.000000    8.000000    6.000000  512.329200\n"
          ]
        }
      ],
      "source": [
        "import pandas as pd\n",
        "# Load the dataset\n",
        "titanic_df = pd.read_csv(\"/content/titanic_dataset.csv\")\n",
        "# Set 'PassengerId' as the index\n",
        "titanic_df.set_index('PassengerId', inplace=True)\n",
        "# Display basic information about the dataset\n",
        "titanic_df.info()\n",
        "\n",
        "# Display the first few rows of the dataset\n",
        "print(titanic_df.head())\n",
        "\n",
        "# Get statistical summary of the dataset\n",
        "print(titanic_df.describe())\n"
      ]
    },
    {
      "source": [
        "import pandas as pd\n",
        "\n",
        "# Load the dataset\n",
        "titanic_df = pd.read_csv(\"/content/titanic_dataset.csv\")\n",
        "\n",
        "# Set 'PassengerId' as the index\n",
        "titanic_df.set_index('PassengerId', inplace=True)\n",
        "\n",
        "# Select only numeric columns\n",
        "numeric_columns = titanic_df.select_dtypes(include=['number'])\n",
        "\n",
        "# Fill missing values in numeric columns with the median\n",
        "titanic_df[numeric_columns.columns] = numeric_columns.fillna(numeric_columns.median())\n",
        "\n",
        "# For categorical columns, fill missing values with the mode\n",
        "categorical_columns = titanic_df.select_dtypes(exclude=['number'])\n",
        "titanic_df[categorical_columns.columns] = categorical_columns.fillna(categorical_columns.mode().iloc[0])\n",
        "\n",
        "# Verify there are no more missing values\n",
        "print(titanic_df.isnull().sum())"
      ],
      "cell_type": "code",
      "metadata": {
        "colab": {
          "base_uri": "https://localhost:8080/"
        },
        "id": "P97-ehGnCADb",
        "outputId": "9c935242-180e-476c-bde8-c085a34f5d2d"
      },
      "execution_count": 6,
      "outputs": [
        {
          "output_type": "stream",
          "name": "stdout",
          "text": [
            "Survived    0\n",
            "Pclass      0\n",
            "Name        0\n",
            "Sex         0\n",
            "Age         0\n",
            "SibSp       0\n",
            "Parch       0\n",
            "Ticket      0\n",
            "Fare        0\n",
            "Cabin       0\n",
            "Embarked    0\n",
            "dtype: int64\n"
          ]
        }
      ]
    },
    {
      "cell_type": "code",
      "source": [
        "import numpy as np\n",
        "\n",
        "# Function to remove outliers using the IQR method\n",
        "def remove_outliers(df, column):\n",
        "    Q1 = df[column].quantile(0.25)\n",
        "    Q3 = df[column].quantile(0.75)\n",
        "    IQR = Q3 - Q1\n",
        "    lower_bound = Q1 - 1.5 * IQR\n",
        "    upper_bound = Q3 + 1.5 * IQR\n",
        "    return df[(df[column] >= lower_bound) & (df[column] <= upper_bound)]\n",
        "\n",
        "# Remove outliers in 'Age', 'Fare', and 'SibSp' columns\n",
        "titanic_df = remove_outliers(titanic_df, 'Age')\n",
        "titanic_df = remove_outliers(titanic_df, 'Fare')\n",
        "titanic_df = remove_outliers(titanic_df, 'SibSp')\n",
        "\n",
        "# Display the updated dataset info\n",
        "print(titanic_df.describe())\n"
      ],
      "metadata": {
        "colab": {
          "base_uri": "https://localhost:8080/"
        },
        "id": "150988vzCIzG",
        "outputId": "8456764c-40e5-47f5-b6f1-9c88b99715fd"
      },
      "execution_count": 8,
      "outputs": [
        {
          "output_type": "stream",
          "name": "stdout",
          "text": [
            "       PassengerId    Survived      Pclass         Age       SibSp  \\\n",
            "count   575.000000  575.000000  575.000000  575.000000  575.000000   \n",
            "mean    453.723478    0.372174    2.403478   29.333478    0.307826   \n",
            "std     260.007012    0.483805    0.742433   12.838648    0.525508   \n",
            "min       1.000000    0.000000    1.000000    0.420000    0.000000   \n",
            "25%     220.500000    0.000000    2.000000   21.000000    0.000000   \n",
            "50%     450.000000    0.000000    3.000000   28.000000    0.000000   \n",
            "75%     684.000000    1.000000    3.000000   36.750000    1.000000   \n",
            "max     891.000000    1.000000    3.000000   64.000000    2.000000   \n",
            "\n",
            "            Parch        Fare  \n",
            "count  575.000000  575.000000  \n",
            "mean     0.342609   18.213913  \n",
            "std      0.821643   14.058748  \n",
            "min      0.000000    0.000000  \n",
            "25%      0.000000    7.925000  \n",
            "50%      0.000000   13.000000  \n",
            "75%      0.000000   26.000000  \n",
            "max      6.000000   69.300000  \n"
          ]
        }
      ]
    },
    {
      "source": [
        "from sklearn.preprocessing import MinMaxScaler\n",
        "\n",
        "# Separate the features and target\n",
        "features = titanic_df.drop('Survived', axis=1)\n",
        "target = titanic_df['Survived']\n",
        "\n",
        "# Select only numeric columns from features\n",
        "numeric_features = features.select_dtypes(include=['number'])\n",
        "\n",
        "# Apply Min-Max Scaling to numeric features only\n",
        "scaler = MinMaxScaler()\n",
        "features_scaled = scaler.fit_transform(numeric_features)\n",
        "\n",
        "# Convert scaled numeric features back to a DataFrame\n",
        "features_scaled_df = pd.DataFrame(features_scaled, columns=numeric_features.columns, index=numeric_features.index)\n",
        "\n",
        "# If you need to include the categorical features, handle them separately (e.g., one-hot encoding)\n",
        "# and then concatenate with the scaled numeric features.\n",
        "\n",
        "# Display the scaled feature set\n",
        "print(features_scaled_df.head())"
      ],
      "cell_type": "code",
      "metadata": {
        "colab": {
          "base_uri": "https://localhost:8080/"
        },
        "id": "vQvTYA2_CWGe",
        "outputId": "5ed612aa-56fe-4ada-97e8-cb80b0b2cc09"
      },
      "execution_count": 10,
      "outputs": [
        {
          "output_type": "stream",
          "name": "stdout",
          "text": [
            "   PassengerId  Pclass       Age  SibSp  Parch      Fare\n",
            "0     0.000000     1.0  0.339415    0.5    0.0  0.104618\n",
            "2     0.002247     1.0  0.402328    0.0    0.0  0.114358\n",
            "3     0.003371     0.0  0.543882    0.5    0.0  0.766234\n",
            "4     0.004494     1.0  0.543882    0.0    0.0  0.116162\n",
            "6     0.006742     0.0  0.842718    0.0    0.0  0.748377\n"
          ]
        }
      ]
    },
    {
      "cell_type": "code",
      "source": [
        "# Combine the scaled features with the target variable\n",
        "final_df = pd.concat([features_scaled_df, target], axis=1)\n",
        "\n",
        "# Display the final dataset\n",
        "print(final_df.head())\n"
      ],
      "metadata": {
        "colab": {
          "base_uri": "https://localhost:8080/"
        },
        "id": "I8Nfvs7KCqeU",
        "outputId": "ec2a7ccb-c461-4b80-d72e-b4af821e13f4"
      },
      "execution_count": 14,
      "outputs": [
        {
          "output_type": "stream",
          "name": "stdout",
          "text": [
            "   PassengerId  Pclass       Age  SibSp  Parch      Fare  Survived\n",
            "0     0.000000     1.0  0.339415    0.5    0.0  0.104618         0\n",
            "2     0.002247     1.0  0.402328    0.0    0.0  0.114358         1\n",
            "3     0.003371     0.0  0.543882    0.5    0.0  0.766234         1\n",
            "4     0.004494     1.0  0.543882    0.0    0.0  0.116162         0\n",
            "6     0.006742     0.0  0.842718    0.0    0.0  0.748377         0\n"
          ]
        }
      ]
    }
  ]
}